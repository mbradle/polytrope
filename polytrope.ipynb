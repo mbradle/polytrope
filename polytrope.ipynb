{
 "cells": [
  {
   "cell_type": "markdown",
   "metadata": {},
   "source": [
    "The purpose of this notebook is to find solutions of the Lane-Emden equation relevant for polytropic models of stars."
   ]
  },
  {
   "cell_type": "markdown",
   "metadata": {},
   "source": [
    "First, we must import the necessary files."
   ]
  },
  {
   "cell_type": "code",
   "execution_count": 1,
   "metadata": {},
   "outputs": [],
   "source": [
    "from scipy.integrate import odeint\n",
    "from scipy.optimize import root_scalar\n",
    "import numpy as np\n",
    "import matplotlib.pyplot as plt"
   ]
  },
  {
   "cell_type": "markdown",
   "metadata": {},
   "source": [
    "Set Newton's constant and the Solar mass in cgs units."
   ]
  },
  {
   "cell_type": "code",
   "execution_count": 2,
   "metadata": {},
   "outputs": [],
   "source": [
    "G = 6.6743e-8\n",
    "M_sol = 1.9891e33"
   ]
  },
  {
   "cell_type": "markdown",
   "metadata": {},
   "source": [
    "Now we define the Lane-Emden equation as two first order derivatives.  Also add a tiny amount to the denominator of one term to avoid overflows and take the absolute value of $\\theta$ in taking powers because this is a problem for some n values.  In our treatment, where we are only considering physically relevant solutions (with $\\theta \\geq 0$), this last point is only an issue near the root when we are root finding.  Near the root, the $\\theta^n$ term contributes negligibly to the derivative."
   ]
  },
  {
   "cell_type": "code",
   "execution_count": 3,
   "metadata": {},
   "outputs": [],
   "source": [
    "def lane_emden(y, x, n):\n",
    "    theta, dtheta = y\n",
    "    dydx = [dtheta, -2. * dtheta / (x + 1.e-300) - np.power(np.abs(theta), n)]\n",
    "    return dydx"
   ]
  },
  {
   "cell_type": "markdown",
   "metadata": {},
   "source": [
    "Now we set up the root function to find the independent variable that gives the solution to the Lane-Emden equation equal to the input value theta."
   ]
  },
  {
   "cell_type": "code",
   "execution_count": 4,
   "metadata": {},
   "outputs": [],
   "source": [
    "def f(x, theta, n):\n",
    "    assert(n >= 0 and n < 5)\n",
    "    y0 = [1., 0.]\n",
    "    xsol = np.linspace(0, x, 101)\n",
    "    sol = odeint(lane_emden, y0, xsol, args=(n,))\n",
    "    return sol[sol.shape[0]-1, 0] - theta"
   ]
  },
  {
   "cell_type": "markdown",
   "metadata": {},
   "source": [
    "Now we choose n."
   ]
  },
  {
   "cell_type": "code",
   "execution_count": 5,
   "metadata": {},
   "outputs": [],
   "source": [
    "n = 3"
   ]
  },
  {
   "cell_type": "markdown",
   "metadata": {},
   "source": [
    "Now find the root for $\\theta = 0$."
   ]
  },
  {
   "cell_type": "code",
   "execution_count": 6,
   "metadata": {},
   "outputs": [],
   "source": [
    "theta = 0\n",
    "sol = root_scalar(f, x0 = 1, x1 = 2, args=(theta, n,))"
   ]
  },
  {
   "cell_type": "markdown",
   "metadata": {},
   "source": [
    "With the root, create the full solution."
   ]
  },
  {
   "cell_type": "code",
   "execution_count": 7,
   "metadata": {},
   "outputs": [],
   "source": [
    "x = np.linspace(0, sol.root, 101)\n",
    "msol = odeint(lane_emden, [1., 0.], x, args=(n,))"
   ]
  },
  {
   "cell_type": "markdown",
   "metadata": {},
   "source": [
    "Retrieve the first zero and derivative."
   ]
  },
  {
   "cell_type": "code",
   "execution_count": 8,
   "metadata": {},
   "outputs": [
    {
     "name": "stdout",
     "output_type": "stream",
     "text": [
      "The full root xi_1 = 6.896848 and the derivative at the root dxi_1 / dtheta = -0.042430\n"
     ]
    }
   ],
   "source": [
    "xsi1 = sol.root\n",
    "dxsi1 = msol[msol.shape[0]-1, 1]\n",
    "\n",
    "print(\"The full root xi_1 = {:f} and the derivative at the root dxi_1 / dtheta = {:f}\".format(xsi1, dxsi1))"
   ]
  },
  {
   "cell_type": "markdown",
   "metadata": {},
   "source": [
    "Plot the solution to the Lane-Emden equation over the relevant range."
   ]
  },
  {
   "cell_type": "code",
   "execution_count": 9,
   "metadata": {},
   "outputs": [
    {
     "data": {
      "image/png": "[encoded data removed]",
      "text/plain": [
       "<Figure size 432x288 with 1 Axes>"
      ]
     },
     "metadata": {
      "needs_background": "light"
     },
     "output_type": "display_data"
    }
   ],
   "source": [
    "plt.plot(x, msol[:,0])\n",
    "plt.xlabel(\"$\\\\xi$\")\n",
    "plt.ylabel(\"$\\\\theta(\\\\xi)$\")\n",
    "plt.show()"
   ]
  },
  {
   "cell_type": "markdown",
   "metadata": {},
   "source": [
    "Create a physical polytrope.  Choose a central density and a total mass."
   ]
  },
  {
   "cell_type": "code",
   "execution_count": 10,
   "metadata": {},
   "outputs": [],
   "source": [
    "rho_c = 1.e10\n",
    "M = 1.4 * M_sol"
   ]
  },
  {
   "cell_type": "code",
   "execution_count": 11,
   "metadata": {},
   "outputs": [
    {
     "name": "stdout",
     "output_type": "stream",
     "text": [
      "The central pressure is 1.035836e+28 dynes / cm^2\n"
     ]
    }
   ],
   "source": [
    "K = (4 * np.pi * G / (n + 1)) * np.power((-M / (4 * np.pi * np.power(rho_c, (3.-n)/(2.*n))*xsi1**2*dxsi1)), 2./3.)\n",
    "P_c = K * np.power(rho_c, 1 + 1./n)\n",
    "print(\"The central pressure is {:e} dynes / cm^2\".format(P_c))"
   ]
  },
  {
   "cell_type": "markdown",
   "metadata": {},
   "source": [
    "Now compute the length scale and the stellar radius."
   ]
  },
  {
   "cell_type": "code",
   "execution_count": 12,
   "metadata": {},
   "outputs": [
    {
     "name": "stdout",
     "output_type": "stream",
     "text": [
      "The length scale is 22.226324 km\n",
      "The stellar radius is 153.291583 km\n"
     ]
    }
   ],
   "source": [
    "a = np.sqrt(((n+1) * K * np.power(rho_c, (1. - n)/n)) / (4 * np.pi * G))\n",
    "print(\"The length scale is {:f} km\".format(a / 1.e6))\n",
    "print(\"The stellar radius is {:f} km\".format(a * xsi1 / 1.e6))"
   ]
  },
  {
   "cell_type": "markdown",
   "metadata": {},
   "source": [
    "Compute the enclosed mass coordinate."
   ]
  },
  {
   "cell_type": "code",
   "execution_count": 13,
   "metadata": {},
   "outputs": [],
   "source": [
    "Mr = -4 * np.pi * a**3 * rho_c * x**2 * msol[:,1]"
   ]
  },
  {
   "cell_type": "markdown",
   "metadata": {},
   "source": [
    "Graph the density as a function of the enclosed mass."
   ]
  },
  {
   "cell_type": "code",
   "execution_count": 14,
   "metadata": {},
   "outputs": [
    {
     "data": {
      "text/plain": [
       "Text(0, 0.5, '$\\\\rho$ (g/cc)')"
      ]
     },
     "execution_count": 14,
     "metadata": {},
     "output_type": "execute_result"
    },
    {
     "data": {
      "image/png": "[encoded data removed]",
      "text/plain": [
       "<Figure size 432x288 with 1 Axes>"
      ]
     },
     "metadata": {
      "needs_background": "light"
     },
     "output_type": "display_data"
    }
   ],
   "source": [
    "plt.plot(Mr / M_sol, rho_c * np.power(msol[:,0], n))\n",
    "plt.yscale('log')\n",
    "plt.xlabel('$M_r / M_\\\\odot$')\n",
    "plt.ylabel('$\\\\rho$ (g/cc)')"
   ]
  },
  {
   "cell_type": "markdown",
   "metadata": {},
   "source": [
    "Plot the pressure as a function of enclosed mass."
   ]
  },
  {
   "cell_type": "code",
   "execution_count": 15,
   "metadata": {},
   "outputs": [
    {
     "data": {
      "text/plain": [
       "Text(0, 0.5, 'r (km)')"
      ]
     },
     "execution_count": 15,
     "metadata": {},
     "output_type": "execute_result"
    },
    {
     "data": {
      "image/png": "[encoded data removed]",
      "text/plain": [
       "<Figure size 432x288 with 1 Axes>"
      ]
     },
     "metadata": {
      "needs_background": "light"
     },
     "output_type": "display_data"
    }
   ],
   "source": [
    "plt.plot(Mr / M_sol, a * x / 1.e6)\n",
    "plt.yscale('log')\n",
    "plt.xlabel('$M_r / M_\\\\odot$')\n",
    "plt.ylabel('r (km)')"
   ]
  },
  {
   "cell_type": "code",
   "execution_count": 16,
   "metadata": {},
   "outputs": [
    {
     "name": "stderr",
     "output_type": "stream",
     "text": [
      "/Users/bradleymeyer/Library/Python/3.7/lib/python/site-packages/ipykernel_launcher.py:1: RuntimeWarning: invalid value encountered in power\n",
      "  \"\"\"Entry point for launching an IPython kernel.\n"
     ]
    },
    {
     "data": {
      "text/plain": [
       "Text(0, 0.5, 'P (dynes / cm^2)')"
      ]
     },
     "execution_count": 16,
     "metadata": {},
     "output_type": "execute_result"
    },
    {
     "data": {
      "image/png": "[encoded data removed]",
      "text/plain": [
       "<Figure size 432x288 with 1 Axes>"
      ]
     },
     "metadata": {
      "needs_background": "light"
     },
     "output_type": "display_data"
    }
   ],
   "source": [
    "plt.plot(Mr / M_sol, K * np.power((rho_c * msol[:,0]), 1. + 1./n))\n",
    "plt.yscale('log')\n",
    "plt.xlabel('$M_r / M_\\\\odot$')\n",
    "plt.ylabel('P (dynes / cm^2)')"
   ]
  },
  {
   "cell_type": "markdown",
   "metadata": {},
   "source": [
    "Define a set of densities."
   ]
  },
  {
   "cell_type": "code",
   "execution_count": 17,
   "metadata": {},
   "outputs": [],
   "source": [
    "rhos = [1.e10, 9.e9, 8.e9, 7.e9, 6.e9, 5.e9, 4.e9, 3.e9, 2.e9, 1.e9, 1.e8, 1.e7, 1.e6, 1.e5, 1.e4, 0]"
   ]
  },
  {
   "cell_type": "markdown",
   "metadata": {},
   "source": [
    "Define a routine to compute the mass from an input density $\\rho$.  Do this as follows.   $\\theta = (\\rho / \\rho_c)^{1/n}$, so find the $\\xi$ that gives this $\\theta$ for the given $n$ and $\\rho_c$.  Then compute $d\\theta / d\\xi$ at that $\\xi$.  Finally, compute $M(\\xi) = -4 \\pi a^3 \\rho_c \\xi^2 d\\theta / d\\xi$."
   ]
  },
  {
   "cell_type": "code",
   "execution_count": 18,
   "metadata": {},
   "outputs": [],
   "source": [
    "def m_from_rho(n, rho_c, a, rho_p):\n",
    "    assert(rho_p <= rho_c and rho_p >= 0)\n",
    "    theta = np.power(rho_p / rho_c, 1. / n)\n",
    "    sol = root_scalar(f, x0 = 1, x1 = 2, args=(theta, n,))\n",
    "    sol_p = odeint(lane_emden, [1., 0.], [0, sol.root], args=(n,))\n",
    "    return -4 * np.pi * a**3 * rho_c * sol.root**2 * sol_p[1,1]"
   ]
  },
  {
   "cell_type": "markdown",
   "metadata": {},
   "source": [
    "Compute the masses from the range of densities."
   ]
  },
  {
   "cell_type": "code",
   "execution_count": 19,
   "metadata": {},
   "outputs": [],
   "source": [
    "Ms = [0]\n",
    "for i in range(1, len(rhos)):\n",
    "    Ms.append(m_from_rho(n, rho_c, a, (rhos[i] + rhos[i-1])/2))"
   ]
  },
  {
   "cell_type": "markdown",
   "metadata": {},
   "source": [
    "Compute the mass shells for the given densities."
   ]
  },
  {
   "cell_type": "code",
   "execution_count": 20,
   "metadata": {},
   "outputs": [
    {
     "name": "stdout",
     "output_type": "stream",
     "text": [
      "1.000000e+10 7.443430e-03\n",
      "9.000000e+09 3.271912e-02\n",
      "8.000000e+09 4.985830e-02\n",
      "7.000000e+09 6.592197e-02\n",
      "6.000000e+09 8.295576e-02\n",
      "5.000000e+09 1.024418e-01\n",
      "4.000000e+09 1.263443e-01\n",
      "3.000000e+09 1.582219e-01\n",
      "2.000000e+09 2.064828e-01\n",
      "1.000000e+09 2.826767e-01\n",
      "1.000000e+08 2.433534e-01\n",
      "1.000000e+07 3.761277e-02\n",
      "1.000000e+06 3.692936e-03\n",
      "1.000000e+05 2.591848e-04\n",
      "1.000000e+04 1.490197e-05\n"
     ]
    }
   ],
   "source": [
    "for i in range(0, len(rhos)-1):\n",
    "    print(\"{:e}\".format(rhos[i]), \"{:e}\".format((Ms[i+1] - Ms[i])/ M_sol))"
   ]
  },
  {
   "cell_type": "code",
   "execution_count": null,
   "metadata": {},
   "outputs": [],
   "source": []
  },
  {
   "cell_type": "code",
   "execution_count": null,
   "metadata": {},
   "outputs": [],
   "source": []
  }
 ],
 "metadata": {
  "kernelspec": {
   "display_name": "Python 3",
   "language": "python",
   "name": "python3"
  },
  "language_info": {
   "codemirror_mode": {
    "name": "ipython",
    "version": 3
   },
   "file_extension": ".py",
   "mimetype": "text/x-python",
   "name": "python",
   "nbconvert_exporter": "python",
   "pygments_lexer": "ipython3",
   "version": "3.7.10"
  }
 },
 "nbformat": 4,
 "nbformat_minor": 2
}
